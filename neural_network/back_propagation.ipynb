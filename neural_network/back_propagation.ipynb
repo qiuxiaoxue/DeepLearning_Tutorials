{
 "cells": [
  {
   "cell_type": "markdown",
   "metadata": {
    "collapsed": true
   },
   "source": [
    "## BP算法\n",
    "\n",
    "BP算法的核心就是求梯度，依据的就是**偏导数的链式法则**。\n",
    "\n",
    "![BP](https://matthewmazur.files.wordpress.com/2018/03/neural_network-7.png)"
   ]
  }
 ],
 "metadata": {
  "kernelspec": {
   "display_name": "Python 3",
   "language": "python",
   "name": "python3"
  },
  "language_info": {
   "codemirror_mode": {
    "name": "ipython",
    "version": 3
   },
   "file_extension": ".py",
   "mimetype": "text/x-python",
   "name": "python",
   "nbconvert_exporter": "python",
   "pygments_lexer": "ipython3",
   "version": "3.5.2"
  }
 },
 "nbformat": 4,
 "nbformat_minor": 1
}
