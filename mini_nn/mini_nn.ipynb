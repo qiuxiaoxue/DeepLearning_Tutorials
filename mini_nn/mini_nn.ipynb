{
 "cells": [
  {
   "cell_type": "markdown",
   "metadata": {
    "collapsed": true
   },
   "source": [
    "# 不依赖任何第三方库构建一个最简单的神经网络"
   ]
  },
  {
   "cell_type": "markdown",
   "metadata": {},
   "source": [
    "## 文件说明\n",
    "* `neuron.py`:：单个神经元类`Neuron`\n",
    "* `neuron_layer.py`：单个神经网络层类`NeuralLayer`，包含多个神经元\n",
    "* `neural_network.py`：神经网络类`NeuralNetwork`，包含多个神经网络层\n",
    "* `runner.py`：运行神经网络的脚本"
   ]
  },
  {
   "cell_type": "markdown",
   "metadata": {},
   "source": [
    "## 构建思路\n",
    "\n",
    "### 网络结构\n",
    "\n",
    "我们知道一个神经网络由多个网络层构成，一个网络层由多个神经元组成，那么我们就可以设计三个类：神经元类、网络层类和神经网络类，三者呈递进的`is_a`关系。\n",
    "\n",
    "#### 神经元类`Neuron`\n",
    "\n",
    "神经元主要负责对输入数据求加权和并施加激活函数，实现非线性变换。\n",
    "\n",
    "神经元类`Neuron`包含的属性：\n",
    "\n",
    "* 输入元素个数属性\n",
    "* 权值属性\n",
    "* 偏移值属性\n",
    "* 激活函数属性\n",
    "* 激活函数导数属性（用于求梯度）\n",
    "\n",
    "方法：\n",
    "\n",
    "* 通过输入值求加权和方法\n",
    "* 通过加权和求输出值（激活函数输出值）方法\n",
    "\n",
    "静态方法：\n",
    "\n",
    "常用激活函数及其导数\n",
    "\n",
    "#### 网络层类`NeuronLayer`\n",
    "\n",
    "一个网络层由多个神经元组成，网络层负责调用通过神经元的求值函数求得当前层的输出，即前向`feed_forward`过程，以及后向的反向传播`back_propagation`过程（即求梯度）。\n",
    "\n",
    "每个网络层保存上一层至这一层的权重参数，这样n层的网络实际需要n-1个`NeuronLayer`对象，因为输入层不需要创建一个`NeuronLayer`对象。\n",
    "\n",
    "属性：\n",
    "\n",
    "* 权值属性\n",
    "* 偏移属性\n",
    "* 组成的神经元属性\n",
    "* 前一层网络神经元个数属性\n",
    "* 当前层神经元个数属性\n",
    "* 最近一次的输入\n",
    "* 最近一次输入对应的加权和\n",
    "* 最近一次的输出\n",
    "\n",
    "方法：\n",
    "\n",
    "* 计算当前层输出方法\n",
    "* 计算当前层梯度方法\n",
    "\n",
    "#### 神经网络类`NeuronNetwork`\n",
    "\n",
    "神经网络类完成神经网络的基本任务：训练与预测。\n",
    "\n",
    "由上一节，若神经网络由n层组成，则需创建n-1个`NeuronLayer`。\n",
    "\n",
    "属性：\n",
    "\n",
    "* 层属性\n",
    "* 输入维度\n",
    "* 输出维度\n",
    "\n",
    "方法：\n",
    "\n",
    "* 训练方法\n",
    "* 预测方法\n",
    "* 计算loss值方法"
   ]
  }
 ],
 "metadata": {
  "kernelspec": {
   "display_name": "Python 3",
   "language": "python",
   "name": "python3"
  },
  "language_info": {
   "codemirror_mode": {
    "name": "ipython",
    "version": 3
   },
   "file_extension": ".py",
   "mimetype": "text/x-python",
   "name": "python",
   "nbconvert_exporter": "python",
   "pygments_lexer": "ipython3",
   "version": "3.5.2"
  }
 },
 "nbformat": 4,
 "nbformat_minor": 1
}
